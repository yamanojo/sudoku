{
 "cells": [
  {
   "cell_type": "markdown",
   "metadata": {},
   "source": [
    "# 目標\n",
    "数独の自動解決プログラムの作成を通して、コーディングスピードを上げる"
   ]
  },
  {
   "cell_type": "markdown",
   "metadata": {},
   "source": [
    "仕様書\n",
    "問題を\n",
    "\n",
    "\n",
    "オブジェクト\n",
    "- 盤面\n",
    "    - 盤面情報を持つ\n",
    "    - 数値の出入力を行う\n",
    "    - \n",
    "- チェックする人（盤面に組み込む）\n",
    "    - 問題が解けているかどうかを確認する\n",
    "\n",
    "- プレイヤー\n",
    "    - 考えて戦略的に数値を入れる\n",
    "    - 入力は盤面から得た情報、出力は情報入力\n",
    "\n"
   ]
  },
  {
   "cell_type": "code",
   "execution_count": 14,
   "metadata": {},
   "outputs": [],
   "source": [
    "import numpy as np"
   ]
  },
  {
   "cell_type": "code",
   "execution_count": 15,
   "metadata": {},
   "outputs": [],
   "source": [
    "import pandas as pd"
   ]
  },
  {
   "cell_type": "code",
   "execution_count": 19,
   "metadata": {},
   "outputs": [],
   "source": [
    "def read_question_data(address):\n",
    "    data = pd.read_csv(address)\n",
    "    data.fillna(0)#空欄を0で補間する\n",
    "    q_mat = np.array(data)\n",
    "    return q_mat"
   ]
  },
  {
   "cell_type": "code",
   "execution_count": 21,
   "metadata": {},
   "outputs": [],
   "source": [
    "q_0 = read_question_data(\"question_01.csv\")"
   ]
  },
  {
   "cell_type": "code",
   "execution_count": null,
   "metadata": {},
   "outputs": [],
   "source": [
    "class Board:\n",
    "    #問題を盤面に反映\n",
    "    #問題で与えられたセルの情報を保持\n",
    "    #インスタンス変数の定義\n",
    "    def __init__(self,question):\n",
    "        self.__board_state = question\n",
    "        self.__is_question_cell = question != 0\n",
    "        \n",
    "    def input_number(row,column,number):\n",
    "        \n",
    "        #row,columnの数値が正しいことの例外処理\n",
    "        try:\n",
    "            if __is_question_cell[row,column] == True:\n",
    "                print(\"問題で与えられているセルです。\")\n",
    "                return 0\n",
    "            elif not (0 <= number and number <= 9):\n",
    "                print(\"数が範囲を超えています。\")\n",
    "                return 0\n",
    "            else:\n",
    "                __board_state[row][cell] = number\n",
    "                return __board_state\n",
    "        except IndexError:\n",
    "            print(\"row,column が不正です。\")\n",
    "    \n",
    "    def output_board_state():\n",
    "        return __board_state\n",
    "        \n",
    "        \n",
    "        \n"
   ]
  },
  {
   "cell_type": "code",
   "execution_count": null,
   "metadata": {},
   "outputs": [],
   "source": [
    "class InputNumberMap:\n",
    "    def __init__(self):\n",
    "        self.__box_group = []\n",
    "        self.__row_group = []\n",
    "        self.__column_group = []\n",
    "        for i in range(9):\n",
    "            self.__box_group.append(Group(\"box\",i))\n",
    "            self.__row_group.append(Group(\"row\",i))\n",
    "            self.__column_group.append(Group(\"column\",i))\n",
    "        self.__board_state = np.zeros((9,9))    \n",
    "        self.__number_map = np.zeros((9,9,9))\n",
    "        self.__number_map_able_task = np.full((9,9),9))\n",
    "        \n",
    "    def set_question (self,board_state):\n",
    "        for row in range(9):\n",
    "            for column in range(9):\n",
    "                if board_state[row][column] != 0:\n",
    "                    input_number\n",
    "        \n",
    "    def _input_number_map(self,group,input_number):\n",
    "        for row,column in group.get_cell_index():\n",
    "            self.__number_map[row][column][input_number] = 1\n",
    "            self.__number_map_able_task[row][column] = 9-sum(self.__number_map[row][column])\n",
    "            \n",
    "    \n",
    "    def input_number(self,index,input_number):\n",
    "        row = index[0]\n",
    "        column = index[1]\n",
    "        box_ind = self._search_box_index(index)\n",
    "        \n",
    "        is_updated = self.__box_group[box_ind].input_number(input_number)\n",
    "        if is_updated == True:\n",
    "            self._input_number_map(self.__box_group[box_ind],input_number)\n",
    "        is_updated = self.__row_group[row].input_number(input_number)\n",
    "        if is_updated == True:\n",
    "            self._input_number_map(self.__row_group[row],input_number)\n",
    "        is_updated = self.__column_group[column].input_number(input_number)\n",
    "        if is_updated == True:\n",
    "            self._input_number_map(self.__column_group[column],input_number)\n",
    "            \n",
    "            \n",
    "            \n",
    "            \n",
    "            \n",
    "        self.__row_group[row].input_number(input_number)\n",
    "        self.__column_group[column].input_number(input_number)\n",
    "        \n",
    "        \n",
    "    def _search_box_index(self,index):\n",
    "        row = index[0]\n",
    "        column = index[1]\n",
    "        return group_index = (row//3)*3 + column//3\n",
    "        "
   ]
  },
  {
   "cell_type": "code",
   "execution_count": null,
   "metadata": {},
   "outputs": [],
   "source": [
    "# 重複した数字が入らない１グループを意味するもの\n",
    "class Group:\n",
    "    def __init__(self,group_type,group_index):\n",
    "#         0-1の二値でとる。\n",
    "        self.__number = [0]*9\n",
    "        \n",
    "        if group_type = \"box\":\n",
    "            self.__cell_index = [[(group_index//3)*3 + i//3, (group_index%3)*3 + i%3] for i in range (9) ]\n",
    "        elif group_type = \"row\":\n",
    "            self.__cell_index = [[group_index, i] for i in range (9)]\n",
    "        elif group_type = \"column\":\n",
    "            self.__cell_index = [[i,group_index] for i in range (9)]\n",
    "        \n",
    "    def input_number(self,input_number,board):\n",
    "        if self.__number[input_number] == 0:\n",
    "            self.__number[input_number] = 1\n",
    "            return True\n",
    "        else:\n",
    "            return False\n",
    "    \n",
    "    def get_cell_index(self):\n",
    "        return self.__cell_index\n",
    "\n",
    "    def reset_number(self,board_state):\n",
    "        self.__number = [0]*9\n",
    "        for ind in self.__cell_index:\n",
    "            input_num = board_state[ind[0]][ind[1]]\n",
    "            if input_num != 0:\n",
    "                self.__number[input_num-1] = 1\n",
    "        "
   ]
  }
 ],
 "metadata": {
  "kernelspec": {
   "display_name": "Python 3",
   "language": "python",
   "name": "python3"
  },
  "language_info": {
   "codemirror_mode": {
    "name": "ipython",
    "version": 3
   },
   "file_extension": ".py",
   "mimetype": "text/x-python",
   "name": "python",
   "nbconvert_exporter": "python",
   "pygments_lexer": "ipython3",
   "version": "3.6.4"
  }
 },
 "nbformat": 4,
 "nbformat_minor": 2
}

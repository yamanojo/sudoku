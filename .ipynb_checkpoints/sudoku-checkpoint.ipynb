{
 "cells": [
  {
   "cell_type": "markdown",
   "metadata": {},
   "source": [
    "# 目標\n",
    "数独の自動解決プログラムの作成を通して、コーディングスピードを上げる"
   ]
  },
  {
   "cell_type": "markdown",
   "metadata": {},
   "source": [
    "仕様書\n",
    "問題を\n",
    "\n",
    "\n",
    "オブジェクト\n",
    "- 盤面\n",
    "    - 盤面情報を持つ\n",
    "    - 数値の出入力を行う\n",
    "    - \n",
    "\n",
    "\n",
    "- プレイヤー\n",
    "    - 考えて戦略的に数値を入れる\n",
    "    - 入力は盤面から得た情報、出力は情報入力\n",
    "\n"
   ]
  },
  {
   "cell_type": "code",
   "execution_count": 1,
   "metadata": {},
   "outputs": [],
   "source": [
    "import numpy as np\n",
    "import pandas as pd\n",
    "import copy\n",
    "from queue import LifoQueue"
   ]
  },
  {
   "cell_type": "markdown",
   "metadata": {},
   "source": [
    "問題をCSVファイルから読み込む→ndarrayに変換"
   ]
  },
  {
   "cell_type": "code",
   "execution_count": 2,
   "metadata": {},
   "outputs": [],
   "source": [
    "def read_question_data(address):\n",
    "    data = pd.read_csv(address,header=None)\n",
    "    data.fillna(0,inplace=True)#空欄を0で補間する\n",
    "    q_mat = np.array(data,dtype = int)\n",
    "    return q_mat"
   ]
  },
  {
   "cell_type": "code",
   "execution_count": 150,
   "metadata": {
    "scrolled": true
   },
   "outputs": [],
   "source": [
    "q_0 = read_question_data(\"question_01.csv\")"
   ]
  },
  {
   "cell_type": "code",
   "execution_count": 3,
   "metadata": {},
   "outputs": [],
   "source": [
    "class Board:\n",
    "    #問題の情報を保持\n",
    "    #問題を解くための情報も合わせて保持\n",
    "    def __init__(self):\n",
    "        self.status = np.zeros((9,9))\n",
    "        self.can_input = np.full((9,9,9),1)\n",
    "#         グループ情報をまとめて作成\n",
    "        self.box_group = []\n",
    "        self.row_group = []\n",
    "        self.column_group = []\n",
    "        for i in range(9):\n",
    "            self.box_group.append(Group(\"box\",i))\n",
    "            self.row_group.append(Group(\"row\",i))\n",
    "            self.column_group.append(Group(\"column\",i))\n",
    "    \n",
    "    def input_status(self,index,number):\n",
    "        self.status[index[0],index[1]] = number\n",
    "            \n",
    "    def input_can_input(self,index,number):\n",
    "        self.status[index[0],index[1]] = number\n",
    "        \n",
    "        \n"
   ]
  },
  {
   "cell_type": "code",
   "execution_count": 29,
   "metadata": {},
   "outputs": [],
   "source": [
    "class SearchAnswer:\n",
    "    def __init__(self):\n",
    "        self.board = Board()\n",
    "        self.board_backup = LifoQueue() #スタック型のデータ構造putとgetで出し入れする\n",
    "    \n",
    "    def set_question (self,question):\n",
    "        self.__init__()\n",
    "        for row in range(9):\n",
    "            for column in range(9):\n",
    "                if question[row][column] != 0:\n",
    "                    input_num = question[row][column]\n",
    "                    self.input_number(row,column,input_num)\n",
    "    \n",
    "    \n",
    "#     使用予定なし\n",
    "#     Number_Set = [2,3,4,5,6,7,8,9]\n",
    "    \n",
    "    #実装\n",
    "    def search_answer_single(self):\n",
    "        self.all_group_search()\n",
    "        self.cell_determinate_search()\n",
    "#         print(self.board.status)\n",
    "        \n",
    "    def search_answer(self):\n",
    "        blank_cell_num = self.count_blank_cell()\n",
    "        print(\"question  blank cell:{}\".format(blank_cell_num))\n",
    "        print(self.board.status)\n",
    "        iteration = 0\n",
    "        max_iteration = 100\n",
    "        while self.finish_answer() == False:\n",
    "            self.search_answer_single()\n",
    "            iteration += 1\n",
    "            blank_cell_num = self.count_blank_cell()\n",
    "            print(\"iteration:{}  blank cell:{}\".format(iteration,blank_cell_num))\n",
    "            print(self.board.status)\n",
    "            \n",
    "            if iteration > max_iteration:\n",
    "                print(\"The number of iteration is over.\")\n",
    "                return \n",
    "        print(\"Finish.\")\n",
    "    \n",
    "    def count_blank_cell(self):\n",
    "        return np.sum((self.board.status == 0))\n",
    "                \n",
    "    def all_group_search(self):\n",
    "        b_g = self.board.box_group\n",
    "        r_g = self.board.row_group\n",
    "        c_g = self.board.row_group\n",
    "        for i in range(9):\n",
    "            self.group_search(b_g[i])\n",
    "            self.group_search(r_g[i])\n",
    "            self.group_search(c_g[i])\n",
    "            \n",
    "            \n",
    "            \n",
    "    def cell_determinate_search(self):\n",
    "        #             他の数字が入る余地がないセルを入力\n",
    "\n",
    "        while True:\n",
    "            determinate_cell =  self.board.can_input.sum(axis = 2)==1\n",
    "            if np.any(determinate_cell)==True:\n",
    "                ind_mat = np.array(np.where(determinate_cell == True))\n",
    "                row_ar = ind_mat[0]\n",
    "                column_ar = ind_mat[1]\n",
    "                for i in range(len(row_ar)):\n",
    "                    input_num = np.argmax(self.board.can_input[row_ar[i]][column_ar[i]])+1\n",
    "                    self.input_number(row_ar[i],column_ar[i],input_num)\n",
    "#                     print(\"cell:{},{},{}\".format(row_ar[i], column_ar[i], input_num))\n",
    "                continue\n",
    "            else:\n",
    "                break\n",
    "        \n",
    "#     仮実装\n",
    "    def group_search(self,group):\n",
    "        \n",
    "        cell_ind = group.cell_index\n",
    "        can_input_num = np.zeros(9)\n",
    "        for row, column in cell_ind:\n",
    "            can_input_num += self.board.can_input[row][column]\n",
    "            \n",
    "        if np.any(can_input_num == 1):\n",
    "            input_num_ar = np.where(can_input_num == 1)[0] + 1\n",
    "            for input_num in input_num_ar:\n",
    "                for row,column in group.cell_index:\n",
    "                    if self.board.can_input[row][column][input_num-1] == 1:\n",
    "                        self.input_number(row,column,input_num)\n",
    "#                         print(\"group:{},{},{}\".format(row, column, input_num))\n",
    "                        break\n",
    "    \n",
    "    #矛盾が生じたことを検出する　未実装\n",
    "    def miss_answer(self):\n",
    "        pass\n",
    "        \n",
    "            \n",
    "    \n",
    "    #仮実装：前提として、不正な入力をしていないことを想定し、未記入のcellがないことをもって答えかどうかのチェックを行う。\n",
    "    def finish_answer(self):\n",
    "        finish_flag = np.all(self.board.status != 0)\n",
    "        return finish_flag\n",
    "    \n",
    "    def input_number(self,row,column,input_number):\n",
    "#         statusに数字を代入\n",
    "        self.input_board_status(row,column,input_number)\n",
    "#         代入したマスのcan_inputをすべて0にする\n",
    "        self.board.can_input[row][column] = self.board.can_input[row][column]*0\n",
    "#         groupを更新->can_inputも更新される\n",
    "        self.update_group(self.board.row_group[row],input_number)\n",
    "        self.update_group(self.board.column_group[column],input_number)\n",
    "        b_ind = self._search_box_index(row,column)\n",
    "        self.update_group(self.board.box_group[b_ind],input_number)\n",
    "        \n",
    "        \n",
    "    def _search_box_index(self,row,column):\n",
    "        group_index = (row//3)*3 + column//3\n",
    "        \n",
    "        return group_index\n",
    "    \n",
    "    def input_board_status(self,row,column,number):\n",
    "        self.board.status[row][column] = number\n",
    "        \n",
    "    \n",
    "    def update_group(self,group,number):\n",
    "        group.number_in_group[number-1] = 1\n",
    "        for row,column in group.cell_index:\n",
    "            self.update_can_input(row,column,number)\n",
    "    \n",
    "    def update_can_input(self,row,column,number):\n",
    "        self.board.can_input[row][column][number-1] = 0\n",
    "    \n",
    "    "
   ]
  },
  {
   "cell_type": "code",
   "execution_count": 4,
   "metadata": {},
   "outputs": [],
   "source": [
    "# 重複した数字が入らない１グループを意味するもの\n",
    "class Group:\n",
    "    def __init__(self,group_type,group_index):\n",
    "#         0-1の二値でとる。\n",
    "        self.number_in_group = np.zeros(9)\n",
    "        if group_type == \"box\":\n",
    "            self.cell_index = [[(group_index//3)*3 + i//3, (group_index%3)*3 + i%3] for i in range (9) ]\n",
    "        elif group_type == \"row\":\n",
    "            self.cell_index = [[group_index, i] for i in range (9)]\n",
    "        elif group_type == \"column\":\n",
    "            self.cell_index = [[i,group_index] for i in range (9)]\n",
    "        "
   ]
  },
  {
   "cell_type": "code",
   "execution_count": 6,
   "metadata": {},
   "outputs": [],
   "source": [
    "q_1 = read_question_data(\"question_01.csv\")\n",
    "q_2 = read_question_data(\"question_02.csv\")"
   ]
  },
  {
   "cell_type": "code",
   "execution_count": 30,
   "metadata": {},
   "outputs": [],
   "source": [
    "search = SearchAnswer()"
   ]
  },
  {
   "cell_type": "code",
   "execution_count": 31,
   "metadata": {},
   "outputs": [
    {
     "name": "stdout",
     "output_type": "stream",
     "text": [
      "question blank cell:57\n",
      "[[ 5.  6.  7.  0.  0.  0.  0.  0.  3.]\n",
      " [ 3.  0.  0.  0.  0.  0.  0.  0.  0.]\n",
      " [ 0.  0.  9.  0.  0.  0.  6.  0.  0.]\n",
      " [ 0.  0.  0.  7.  9.  0.  0.  0.  0.]\n",
      " [ 0.  0.  0.  3.  0.  0.  8.  4.  0.]\n",
      " [ 1.  0.  0.  5.  0.  0.  9.  0.  0.]\n",
      " [ 0.  4.  0.  0.  0.  0.  0.  0.  7.]\n",
      " [ 9.  0.  0.  2.  0.  4.  1.  0.  0.]\n",
      " [ 0.  2.  3.  0.  5.  0.  0.  0.  0.]]\n",
      "iteration:1 blank cell:46\n",
      "[[ 5.  6.  7.  0.  0.  0.  2.  0.  3.]\n",
      " [ 3.  0.  0.  0.  0.  0.  0.  0.  0.]\n",
      " [ 0.  0.  9.  0.  0.  0.  6.  0.  0.]\n",
      " [ 0.  0.  0.  7.  9.  0.  0.  0.  0.]\n",
      " [ 7.  9.  0.  3.  0.  0.  8.  4.  0.]\n",
      " [ 1.  3.  0.  5.  4.  0.  9.  7.  0.]\n",
      " [ 0.  4.  1.  0.  0.  0.  0.  0.  7.]\n",
      " [ 9.  7.  0.  2.  0.  4.  1.  0.  0.]\n",
      " [ 0.  2.  3.  1.  5.  7.  4.  0.  0.]]\n",
      "iteration:2 blank cell:0\n",
      "[[ 5.  6.  7.  4.  1.  9.  2.  8.  3.]\n",
      " [ 3.  8.  4.  6.  2.  5.  7.  1.  9.]\n",
      " [ 2.  1.  9.  8.  7.  3.  6.  5.  4.]\n",
      " [ 4.  5.  8.  7.  9.  2.  3.  6.  1.]\n",
      " [ 7.  9.  2.  3.  6.  1.  8.  4.  5.]\n",
      " [ 1.  3.  6.  5.  4.  8.  9.  7.  2.]\n",
      " [ 8.  4.  1.  9.  3.  6.  5.  2.  7.]\n",
      " [ 9.  7.  5.  2.  8.  4.  1.  3.  6.]\n",
      " [ 6.  2.  3.  1.  5.  7.  4.  9.  8.]]\n",
      "Finish.\n",
      "Wall time: 24 ms\n"
     ]
    }
   ],
   "source": [
    "search.set_question(q_2)\n",
    "%time search.search_answer()"
   ]
  },
  {
   "cell_type": "code",
   "execution_count": 202,
   "metadata": {},
   "outputs": [],
   "source": [
    "search.__init__()"
   ]
  }
 ],
 "metadata": {
  "kernelspec": {
   "display_name": "Python 3",
   "language": "python",
   "name": "python3"
  },
  "language_info": {
   "codemirror_mode": {
    "name": "ipython",
    "version": 3
   },
   "file_extension": ".py",
   "mimetype": "text/x-python",
   "name": "python",
   "nbconvert_exporter": "python",
   "pygments_lexer": "ipython3",
   "version": "3.6.4"
  },
  "varInspector": {
   "cols": {
    "lenName": 16,
    "lenType": 16,
    "lenVar": 40
   },
   "kernels_config": {
    "python": {
     "delete_cmd_postfix": "",
     "delete_cmd_prefix": "del ",
     "library": "var_list.py",
     "varRefreshCmd": "print(var_dic_list())"
    },
    "r": {
     "delete_cmd_postfix": ") ",
     "delete_cmd_prefix": "rm(",
     "library": "var_list.r",
     "varRefreshCmd": "cat(var_dic_list()) "
    }
   },
   "oldHeight": 162.518518,
   "position": {
    "height": "40px",
    "left": "916.148px",
    "right": "20px",
    "top": "112.911px",
    "width": "652px"
   },
   "types_to_exclude": [
    "module",
    "function",
    "builtin_function_or_method",
    "instance",
    "_Feature"
   ],
   "varInspector_section_display": "none",
   "window_display": true
  }
 },
 "nbformat": 4,
 "nbformat_minor": 2
}

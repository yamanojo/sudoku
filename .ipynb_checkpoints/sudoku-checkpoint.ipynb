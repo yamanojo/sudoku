{
 "cells": [
  {
   "cell_type": "markdown",
   "metadata": {},
   "source": [
    "# 目標\n",
    "数独の自動解決プログラムの作成を通して、コーディングスピードを上げる"
   ]
  },
  {
   "cell_type": "markdown",
   "metadata": {},
   "source": [
    "仕様書\n",
    "問題を\n",
    "\n",
    "\n",
    "オブジェクト\n",
    "- 盤面\n",
    "    - 盤面情報を持つ\n",
    "    - 数値の出入力を行う\n",
    "    - \n",
    "- チェックする人（盤面に組み込む）\n",
    "    - 問題が解けているかどうかを確認する\n",
    "\n",
    "- プレイヤー\n",
    "    - 考えて戦略的に数値を入れる\n",
    "    - 入力は盤面から得た情報、出力は情報入力\n",
    "\n"
   ]
  },
  {
   "cell_type": "code",
   "execution_count": 8,
   "metadata": {},
   "outputs": [],
   "source": [
    "import numpy as np\n",
    "import pandas as pd\n",
    "import copy\n",
    "from queue import LifoQueue"
   ]
  },
  {
   "cell_type": "markdown",
   "metadata": {},
   "source": [
    "問題をCSVファイルから読み込む→ndarrayに変換"
   ]
  },
  {
   "cell_type": "code",
   "execution_count": 118,
   "metadata": {},
   "outputs": [],
   "source": [
    "def read_question_data(address):\n",
    "    data = pd.read_csv(address,header=None)\n",
    "    data.fillna(0,inplace=True)#空欄を0で補間する\n",
    "    q_mat = np.array(data,dtype = int)\n",
    "    return q_mat"
   ]
  },
  {
   "cell_type": "code",
   "execution_count": 119,
   "metadata": {
    "scrolled": true
   },
   "outputs": [],
   "source": [
    "q_0 = read_question_data(\"question_01.csv\")"
   ]
  },
  {
   "cell_type": "code",
   "execution_count": 99,
   "metadata": {},
   "outputs": [],
   "source": [
    "data = pd.read_csv(address)class Board:\n",
    "    #問題の情報を保持\n",
    "    #問題を解くための情報も合わせて保持\n",
    "    def __init__(self):\n",
    "        self.status = np.zeros((9,9))\n",
    "        self.can_input = np.full((9,9,9),1)\n",
    "#         グループ情報をまとめて作成\n",
    "        self.box_group = []\n",
    "        self.row_group = []\n",
    "        self.column_group = []\n",
    "        for i in range(9):\n",
    "            self.box_group.append(Group(\"box\",i))\n",
    "            self.row_group.append(Group(\"row\",i))\n",
    "            self.column_group.append(Group(\"column\",i))\n",
    "    \n",
    "    def input_status(self,index,number):\n",
    "        self.status[index[0],index[1]] = number\n",
    "            \n",
    "    def input_can_input(self,index,number):\n",
    "        self.status[index[0],index[1]] = number\n",
    "        \n",
    "        \n"
   ]
  },
  {
   "cell_type": "code",
   "execution_count": 134,
   "metadata": {},
   "outputs": [],
   "source": [
    "class SearchAnswer:\n",
    "    def __init__(self):\n",
    "        self.board = Board()\n",
    "        self.board_backup = LifoQueue() #スタック型のデータ構造putとgetで出し入れする\n",
    "    \n",
    "    def set_question (self,question):\n",
    "        for row in range(9):\n",
    "            for column in range(9):\n",
    "                if question[row][column] != 0:\n",
    "                    input_num = question[row][column]\n",
    "                    self.input_number(row,column,input_num)\n",
    "    \n",
    "    Number_Set = [1,2,3,4,5,6,7,8,9]\n",
    "    \n",
    "    #未実装\n",
    "    def search_answer(self):\n",
    "        pass\n",
    "    \n",
    "    #未実装\n",
    "    def check_answer(self):\n",
    "        pass\n",
    "    \n",
    "    def input_number(self,row,column,input_number):\n",
    "#         statusに数字を代入\n",
    "        self.input_board_status(row,column,input_number)\n",
    "        self.board.can_input[row][column] = self.board.can_input[row][column]*0\n",
    "#         groupを更新->can_inputも更新される\n",
    "        self.update_group(self.board.row_group[row],input_number)\n",
    "        self.update_group(self.board.column_group[column],input_number)\n",
    "        b_ind = self._search_box_index(row,column)\n",
    "        self.update_group(self.board.box_group[b_ind],input_number)\n",
    "        \n",
    "    def _search_box_index(self,row,column):\n",
    "        group_index = (row//3)*3 + column//3\n",
    "        \n",
    "        return group_index\n",
    "    \n",
    "    def input_board_status(self,row,column,number):\n",
    "        self.board.status[row][column] = number\n",
    "        \n",
    "    \n",
    "    def update_group(self,group,number):\n",
    "        group.number_in_group[number-1] = 1\n",
    "        for row,column in group.cell_index:\n",
    "            self.update_can_input(row,column,number)\n",
    "    \n",
    "    def update_can_input(self,row,column,number):\n",
    "        self.board.can_input[row][column][number-1] = 0\n",
    "    \n",
    "    "
   ]
  },
  {
   "cell_type": "code",
   "execution_count": 11,
   "metadata": {},
   "outputs": [],
   "source": [
    "# 重複した数字が入らない１グループを意味するもの\n",
    "class Group:\n",
    "    def __init__(self,group_type,group_index):\n",
    "#         0-1の二値でとる。\n",
    "        self.number_in_group = np.zeros(9)\n",
    "        if group_type == \"box\":\n",
    "            self.cell_index = [[(group_index//3)*3 + i//3, (group_index%3)*3 + i%3] for i in range (9) ]\n",
    "        elif group_type == \"row\":\n",
    "            self.cell_index = [[group_index, i] for i in range (9)]\n",
    "        elif group_type == \"column\":\n",
    "            self.cell_index = [[i,group_index] for i in range (9)]\n",
    "        "
   ]
  },
  {
   "cell_type": "code",
   "execution_count": 135,
   "metadata": {},
   "outputs": [],
   "source": [
    "search = SearchAnswer()\n",
    "search.set_question(q_0)"
   ]
  },
  {
   "cell_type": "code",
   "execution_count": 136,
   "metadata": {},
   "outputs": [
    {
     "data": {
      "text/plain": [
       "array([[0, 9, 0, 1, 0, 6, 0, 3, 0],\n",
       "       [0, 6, 0, 0, 7, 4, 0, 0, 0],\n",
       "       [0, 0, 0, 0, 8, 0, 0, 7, 1],\n",
       "       [0, 0, 0, 0, 5, 3, 0, 0, 7],\n",
       "       [0, 5, 0, 7, 0, 0, 0, 4, 0],\n",
       "       [0, 2, 0, 0, 0, 0, 0, 0, 6],\n",
       "       [0, 4, 5, 0, 0, 0, 0, 2, 0],\n",
       "       [0, 0, 3, 0, 0, 0, 0, 0, 0],\n",
       "       [0, 1, 0, 0, 9, 0, 5, 0, 0],\n",
       "       [0, 0, 0, 0, 0, 0, 0, 0, 0]])"
      ]
     },
     "execution_count": 136,
     "metadata": {},
     "output_type": "execute_result"
    }
   ],
   "source": [
    "q_0"
   ]
  },
  {
   "cell_type": "code",
   "execution_count": 137,
   "metadata": {},
   "outputs": [
    {
     "data": {
      "text/plain": [
       "(array([[5, 0, 4, 0, 1, 0, 3, 0, 4],\n",
       "        [5, 0, 3, 4, 0, 0, 3, 3, 4],\n",
       "        [4, 1, 2, 4, 0, 3, 4, 0, 0],\n",
       "        [5, 1, 5, 5, 0, 0, 4, 3, 0],\n",
       "        [5, 0, 4, 0, 3, 4, 5, 0, 4],\n",
       "        [6, 0, 5, 3, 2, 3, 4, 4, 0],\n",
       "        [4, 0, 0, 3, 3, 3, 6, 0, 3],\n",
       "        [5, 2, 0, 5, 4, 5, 6, 4, 3],\n",
       "        [4, 0, 4, 5, 0, 3, 0, 2, 3]]),\n",
       " array([[ 0.,  9.,  0.,  1.,  0.,  6.,  0.,  3.,  0.],\n",
       "        [ 0.,  6.,  0.,  0.,  7.,  4.,  0.,  0.,  0.],\n",
       "        [ 0.,  0.,  0.,  0.,  8.,  0.,  0.,  7.,  1.],\n",
       "        [ 0.,  0.,  0.,  0.,  5.,  3.,  0.,  0.,  7.],\n",
       "        [ 0.,  5.,  0.,  7.,  0.,  0.,  0.,  4.,  0.],\n",
       "        [ 0.,  2.,  0.,  0.,  0.,  0.,  0.,  0.,  6.],\n",
       "        [ 0.,  4.,  5.,  0.,  0.,  0.,  0.,  2.,  0.],\n",
       "        [ 0.,  0.,  3.,  0.,  0.,  0.,  0.,  0.,  0.],\n",
       "        [ 0.,  1.,  0.,  0.,  9.,  0.,  5.,  0.,  0.]]))"
      ]
     },
     "execution_count": 137,
     "metadata": {},
     "output_type": "execute_result"
    }
   ],
   "source": [
    "search.board.can_input.sum(axis = 2),search.board.status"
   ]
  },
  {
   "cell_type": "code",
   "execution_count": 138,
   "metadata": {},
   "outputs": [
    {
     "data": {
      "text/plain": [
       "array([[False, False, False, False,  True, False, False, False, False],\n",
       "       [False, False, False, False, False, False, False, False, False],\n",
       "       [False,  True, False, False, False, False, False, False, False],\n",
       "       [False,  True, False, False, False, False, False, False, False],\n",
       "       [False, False, False, False, False, False, False, False, False],\n",
       "       [False, False, False, False, False, False, False, False, False],\n",
       "       [False, False, False, False, False, False, False, False, False],\n",
       "       [False, False, False, False, False, False, False, False, False],\n",
       "       [False, False, False, False, False, False, False, False, False]], dtype=bool)"
      ]
     },
     "execution_count": 138,
     "metadata": {},
     "output_type": "execute_result"
    }
   ],
   "source": [
    "search.board.can_input.sum(axis = 2)==1"
   ]
  },
  {
   "cell_type": "code",
   "execution_count": null,
   "metadata": {},
   "outputs": [],
   "source": []
  }
 ],
 "metadata": {
  "kernelspec": {
   "display_name": "Python 3",
   "language": "python",
   "name": "python3"
  },
  "language_info": {
   "codemirror_mode": {
    "name": "ipython",
    "version": 3
   },
   "file_extension": ".py",
   "mimetype": "text/x-python",
   "name": "python",
   "nbconvert_exporter": "python",
   "pygments_lexer": "ipython3",
   "version": "3.6.4"
  }
 },
 "nbformat": 4,
 "nbformat_minor": 2
}
